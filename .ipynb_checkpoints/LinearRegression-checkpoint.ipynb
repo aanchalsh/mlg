{
 "cells": [
  {
   "cell_type": "code",
   "execution_count": 11,
   "metadata": {},
   "outputs": [],
   "source": [
    "\n",
    "#==============================================================================\n",
    "# Import libraries\n",
    "#==============================================================================\n",
    "import numpy as np\n",
    "import matplotlib.pyplot as plt\n",
    "import pandas as pd\n",
    "\n"
   ]
  },
  {
   "cell_type": "code",
   "execution_count": null,
   "metadata": {},
   "outputs": [],
   "source": [
    "#==============================================================================\n",
    "# import the dataset of flat prices\n",
    "#==============================================================================\n",
    "\n",
    "flatdata = pd.read_csv ('Price.csv')\n",
    "X = flatdata.iloc [:,:-1].values\n",
    "y = flatdata.iloc [:,1].values"
   ]
  },
  {
   "cell_type": "code",
   "execution_count": 27,
   "metadata": {},
   "outputs": [],
   "source": [
    "#==============================================================================\n",
    "# split the dataset into training and test set. We will use 1/3 approach\n",
    "#==============================================================================\n",
    "\n",
    "from sklearn.model_selection import train_test_split\n",
    "X_train, X_test, y_train, y_test = train_test_split (X, y, test_size = 0.2, \n",
    "                                                     random_state = 0)\n",
    "\n"
   ]
  },
  {
   "cell_type": "code",
   "execution_count": 28,
   "metadata": {},
   "outputs": [
    {
     "data": {
      "text/plain": [
       "LinearRegression()"
      ]
     },
     "execution_count": 28,
     "metadata": {},
     "output_type": "execute_result"
    }
   ],
   "source": [
    "#==============================================================================\n",
    "# Fitting the Linear Regression algo to the Training set\n",
    "#==============================================================================\n",
    "\n",
    "from sklearn.linear_model import LinearRegression\n",
    "regressoragent = LinearRegression() \n",
    "regressoragent.fit (X_train, y_train)         "
   ]
  },
  {
   "cell_type": "code",
   "execution_count": 29,
   "metadata": {},
   "outputs": [
    {
     "data": {
      "text/plain": [
       "array([88023.20048648, 88023.20048648, 76760.30217981, 81120.13378239,\n",
       "       73490.42847787, 74217.0670783 , 75307.02497895, 81483.45308261])"
      ]
     },
     "execution_count": 29,
     "metadata": {},
     "output_type": "execute_result"
    }
   ],
   "source": [
    "#==============================================================================\n",
    "# Now check what our model learned by predicting the X_test values\n",
    "#==============================================================================\n",
    "\n",
    "predictValues = regressoragent.predict(X_test) \n",
    "\n",
    "predictValues\n",
    "\n",
    "\n",
    "\n",
    "\n"
   ]
  },
  {
   "cell_type": "code",
   "execution_count": 25,
   "metadata": {},
   "outputs": [
    {
     "name": "stdout",
     "output_type": "stream",
     "text": [
      "[ 4008.80792293 -5491.19207707  -621.37024879  -400.01095651\n",
      "  6437.610282      91.17016405 -2628.49001288  1226.76898451\n",
      "  5423.37075382  -194.59030777  1460.66868963 -1162.389718  ]\n"
     ]
    }
   ],
   "source": [
    "print ( y_test - predictValues )"
   ]
  },
  {
   "cell_type": "code",
   "execution_count": 35,
   "metadata": {},
   "outputs": [
    {
     "data": {
      "image/png": "[encoded data removed]",
      "text/plain": [
       "<Figure size 432x288 with 1 Axes>"
      ]
     },
     "metadata": {
      "needs_background": "light"
     },
     "output_type": "display_data"
    }
   ],
   "source": [
    "#==============================================================================\n",
    "# So now let us visualize the Training set\n",
    "#==============================================================================\n",
    "plt.scatter(X_train, y_train , color = 'green') \n",
    "plt.plot (X_train, regressoragent.predict (X_train), color = 'red') \n",
    "plt.title ('compare Training result - Area/Price')\n",
    "plt.xlabel('Area of Flat')\n",
    "plt.ylabel('Price')\n",
    "plt.show() #display the graph"
   ]
  },
  {
   "cell_type": "code",
   "execution_count": 36,
   "metadata": {},
   "outputs": [
    {
     "data": {
      "image/png": "[encoded data removed]",
      "text/plain": [
       "<Figure size 432x288 with 1 Axes>"
      ]
     },
     "metadata": {
      "needs_background": "light"
     },
     "output_type": "display_data"
    }
   ],
   "source": [
    "#==============================================================================\n",
    "# So now let us visualize the Test set\n",
    "#==============================================================================\n",
    "plt.scatter(X_test, y_test, color = 'green')\n",
    "plt.plot (X_train, regressoragent.predict (X_train), color = 'red') \n",
    "#Regression line of X_test will be on the same regression line of X_train, so no need to replace \n",
    "#X_train by X_test or y_train by y_test. Regression line for simple linear regression results from the unique equation therefore endup with the same regression line.\n",
    "plt.title ('compare Test result - Area/Price')\n",
    "plt.xlabel('Area of Flat')\n",
    "plt.ylabel('Price')\n",
    "plt.show()"
   ]
  },
  {
   "cell_type": "code",
   "execution_count": null,
   "metadata": {},
   "outputs": [],
   "source": [
    "\n",
    "#==============================================================================\n",
    "# So now let us visualize the ENTIRE set\n",
    "#==============================================================================\n",
    "plt.scatter(X_train, y_train, color = 'green')\n",
    "plt.scatter(X_test, y_test, color = 'blue')\n",
    "plt.plot (X_train, regressoragent.predict (X_train), color = 'red')\n",
    "plt.title ('compare ENTIRE result - Area/Price')\n",
    "plt.xlabel('Area of Flat')\n",
    "plt.ylabel('Price')\n",
    "plt.show()"
   ]
  },
  {
   "cell_type": "code",
   "execution_count": 38,
   "metadata": {},
   "outputs": [
    {
     "name": "stdout",
     "output_type": "stream",
     "text": [
      "[88023.20048648 88023.20048648 76760.30217981 81120.13378239\n",
      " 73490.42847787 74217.0670783  75307.02497895 81483.45308261]\n"
     ]
    }
   ],
   "source": [
    "print(regressoragent.predict (X_test))"
   ]
  },
  {
   "cell_type": "code",
   "execution_count": 39,
   "metadata": {},
   "outputs": [
    {
     "name": "stdout",
     "output_type": "stream",
     "text": [
      "[92100 82600 75900 80600 79600 74000 72400 82600]\n"
     ]
    }
   ],
   "source": [
    "print(y_test)"
   ]
  },
  {
   "cell_type": "code",
   "execution_count": null,
   "metadata": {},
   "outputs": [],
   "source": []
  },
  {
   "cell_type": "code",
   "execution_count": null,
   "metadata": {},
   "outputs": [],
   "source": []
  }
 ],
 "metadata": {
  "kernelspec": {
   "display_name": "Python 3",
   "language": "python",
   "name": "python3"
  },
  "language_info": {
   "codemirror_mode": {
    "name": "ipython",
    "version": 3
   },
   "file_extension": ".py",
   "mimetype": "text/x-python",
   "name": "python",
   "nbconvert_exporter": "python",
   "pygments_lexer": "ipython3",
   "version": "3.8.5"
  }
 },
 "nbformat": 4,
 "nbformat_minor": 2
}
