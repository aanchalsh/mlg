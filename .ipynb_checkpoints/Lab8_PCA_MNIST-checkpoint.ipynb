{
 "cells": [
  {
   "cell_type": "markdown",
   "metadata": {
    "id": "-2U6DpHUAG-I"
   },
   "source": [
    "Import Libraries\n"
   ]
  },
  {
   "cell_type": "code",
   "execution_count": 1,
   "metadata": {
    "executionInfo": {
     "elapsed": 2386,
     "status": "ok",
     "timestamp": 1607919039888,
     "user": {
      "displayName": "Rashmi r",
      "photoUrl": "",
      "userId": "10879259065867465007"
     },
     "user_tz": -330
    },
    "id": "lcWrwIlvCrqP"
   },
   "outputs": [],
   "source": [
    "import numpy as np\n",
    "import matplotlib.pyplot as plt\n"
   ]
  },
  {
   "cell_type": "markdown",
   "metadata": {
    "id": "UzKuI_69_03e"
   },
   "source": [
    "Load the Data"
   ]
  },
  {
   "cell_type": "code",
   "execution_count": 3,
   "metadata": {
    "executionInfo": {
     "elapsed": 2613,
     "status": "ok",
     "timestamp": 1607919101918,
     "user": {
      "displayName": "Rashmi r",
      "photoUrl": "",
      "userId": "10879259065867465007"
     },
     "user_tz": -330
    },
    "id": "70qJyNcsC6GS"
   },
   "outputs": [],
   "source": [
    "from sklearn.datasets import fetch_openml\n"
   ]
  },
  {
   "cell_type": "code",
   "execution_count": 4,
   "metadata": {
    "executionInfo": {
     "elapsed": 38740,
     "status": "ok",
     "timestamp": 1607919146229,
     "user": {
      "displayName": "Rashmi r",
      "photoUrl": "",
      "userId": "10879259065867465007"
     },
     "user_tz": -330
    },
    "id": "5toS2qLncnRp"
   },
   "outputs": [],
   "source": [
    "mnist = fetch_openml('mnist_784') #loading the data"
   ]
  },
  {
   "cell_type": "markdown",
   "metadata": {
    "id": "l3DfHp5fACGd"
   },
   "source": [
    "Split Data into Training and Test Sets\n"
   ]
  },
  {
   "cell_type": "code",
   "execution_count": 5,
   "metadata": {
    "executionInfo": {
     "elapsed": 1549,
     "status": "ok",
     "timestamp": 1607919169683,
     "user": {
      "displayName": "Rashmi r",
      "photoUrl": "",
      "userId": "10879259065867465007"
     },
     "user_tz": -330
    },
    "id": "F0a4i5NkDdLu"
   },
   "outputs": [],
   "source": [
    "from sklearn.model_selection import train_test_split\n",
    "\n",
    "X = mnist[\"data\"]\n",
    "y = mnist[\"target\"]\n",
    "\n",
    "X_train, X_test, y_train, y_test = train_test_split(X, y)"
   ]
  },
  {
   "cell_type": "code",
   "execution_count": null,
   "metadata": {
    "colab": {
     "base_uri": "https://localhost:8080/"
    },
    "executionInfo": {
     "elapsed": 1309,
     "status": "ok",
     "timestamp": 1607757535285,
     "user": {
      "displayName": "Rashmi r",
      "photoUrl": "",
      "userId": "10879259065867465007"
     },
     "user_tz": -330
    },
    "id": "q0fiUNuB0Lty",
    "outputId": "a591e2fc-7359-4b87-b4b7-f11a92bce0de"
   },
   "outputs": [
    {
     "data": {
      "text/plain": [
       "array(['0', '1', '9', ..., '2', '2', '7'], dtype=object)"
      ]
     },
     "execution_count": 22,
     "metadata": {
      "tags": []
     },
     "output_type": "execute_result"
    }
   ],
   "source": [
    "y_test"
   ]
  },
  {
   "cell_type": "code",
   "execution_count": null,
   "metadata": {
    "colab": {
     "base_uri": "https://localhost:8080/"
    },
    "executionInfo": {
     "elapsed": 1233,
     "status": "ok",
     "timestamp": 1607756672582,
     "user": {
      "displayName": "Rashmi r",
      "photoUrl": "",
      "userId": "10879259065867465007"
     },
     "user_tz": -330
    },
    "id": "B0rPNC56w-Bw",
    "outputId": "c90a5a5a-85b9-4e4e-bb5a-277d0ae6a2aa"
   },
   "outputs": [
    {
     "name": "stdout",
     "output_type": "stream",
     "text": [
      "(70000, 784)\n",
      "(70000,)\n"
     ]
    }
   ],
   "source": [
    "print(mnist.data.shape)\n",
    "print(mnist.target.shape)"
   ]
  },
  {
   "cell_type": "markdown",
   "metadata": {
    "id": "utanBPRTARcH"
   },
   "source": [
    "Apply PCA"
   ]
  },
  {
   "cell_type": "code",
   "execution_count": 7,
   "metadata": {
    "executionInfo": {
     "elapsed": 4385,
     "status": "ok",
     "timestamp": 1607919191569,
     "user": {
      "displayName": "Rashmi r",
      "photoUrl": "",
      "userId": "10879259065867465007"
     },
     "user_tz": -330
    },
    "id": "YeKXkt32DKj4"
   },
   "outputs": [],
   "source": [
    "from sklearn.decomposition import PCA\n",
    "\n",
    "pca = PCA(n_components = 2)  \n",
    "X2D = pca.fit_transform(X)"
   ]
  },
  {
   "cell_type": "code",
   "execution_count": 8,
   "metadata": {
    "executionInfo": {
     "elapsed": 11142,
     "status": "ok",
     "timestamp": 1607919214080,
     "user": {
      "displayName": "Rashmi r",
      "photoUrl": "",
      "userId": "10879259065867465007"
     },
     "user_tz": -330
    },
    "id": "JqnEsHzrDvLQ"
   },
   "outputs": [],
   "source": [
    "pca = PCA() \n",
    "pca.fit(X_train)  #calcuates for all the components\n",
    "cumsum = np.cumsum(pca.explained_variance_ratio_) \n",
    "d = np.argmax(cumsum >= 0.95) + 1 #argmax gives us the index and index starts from 0, we are adding 1 to mark 154 dimensions (last value + 1- to get total counts)"
   ]
  },
  {
   "cell_type": "code",
   "execution_count": null,
   "metadata": {
    "colab": {
     "base_uri": "https://localhost:8080/"
    },
    "executionInfo": {
     "elapsed": 1193,
     "status": "ok",
     "timestamp": 1607757363499,
     "user": {
      "displayName": "Rashmi r",
      "photoUrl": "",
      "userId": "10879259065867465007"
     },
     "user_tz": -330
    },
    "id": "IDh1Cx--zl6A",
    "outputId": "943bdf2b-0c47-4789-f1dc-29ab3ae671ae"
   },
   "outputs": [
    {
     "data": {
      "text/plain": [
       "array([0.09739434, 0.07158728, 0.061601  , 0.05411223, 0.04882843,\n",
       "       0.04288142, 0.03281599, 0.02897766, 0.02743802, 0.02346435,\n",
       "       0.02110288, 0.02040573, 0.01707179, 0.01694982, 0.01578783,\n",
       "       0.0149063 , 0.01320756, 0.01274196, 0.01192642, 0.01155338,\n",
       "       0.01071267, 0.01005538, 0.00963677, 0.00912532, 0.00884069,\n",
       "       0.00838306, 0.00805743, 0.00787379, 0.00741991, 0.0068869 ,\n",
       "       0.0065703 , 0.00641015, 0.00600681, 0.00589156, 0.00564778,\n",
       "       0.00543566, 0.0050502 , 0.00487272, 0.00479186, 0.00467848,\n",
       "       0.00454816, 0.0044427 , 0.00416187, 0.00396502, 0.00384749,\n",
       "       0.00377864, 0.00360094, 0.00350024, 0.00339873, 0.00320574,\n",
       "       0.00316751, 0.00309312, 0.00295205, 0.00287218, 0.002829  ,\n",
       "       0.00269319, 0.00267934, 0.00255858, 0.0025286 , 0.0024505 ,\n",
       "       0.00239677, 0.00237893, 0.00229126, 0.00221065, 0.00213479,\n",
       "       0.00207101, 0.00203012, 0.00195252, 0.00192289, 0.0018942 ,\n",
       "       0.00186678, 0.00180651, 0.00176492, 0.00173109, 0.00164766,\n",
       "       0.0016366 , 0.00161059, 0.00154226, 0.00147192, 0.00143277,\n",
       "       0.00141545, 0.00140109, 0.00138917, 0.00134269, 0.00132498,\n",
       "       0.00131777, 0.00129376, 0.00125401, 0.0012263 , 0.00120724,\n",
       "       0.00116106, 0.00113862, 0.00112108, 0.00109836, 0.00109075,\n",
       "       0.00107137, 0.00103425, 0.00103102, 0.00100367, 0.00099813,\n",
       "       0.00097787, 0.00093799, 0.00092943, 0.00091014, 0.00089952,\n",
       "       0.0008869 , 0.00085547, 0.00084817, 0.00084007, 0.0008147 ,\n",
       "       0.00078374, 0.00077581, 0.00077133, 0.00076489, 0.00076133,\n",
       "       0.00074826, 0.00072862, 0.00072351, 0.00071492, 0.00070272,\n",
       "       0.00068729, 0.0006833 , 0.0006748 , 0.00067107, 0.00065829,\n",
       "       0.00063815, 0.00063129, 0.00062322, 0.00061398, 0.00060246,\n",
       "       0.00059586, 0.00058687, 0.0005799 , 0.00057762, 0.00057221,\n",
       "       0.00056493, 0.00055105, 0.00053691, 0.00052821, 0.00051668,\n",
       "       0.00051153, 0.00050147, 0.00048732, 0.00048368, 0.000481  ,\n",
       "       0.0004731 , 0.00047167, 0.00046231, 0.00045492, 0.00045228,\n",
       "       0.00044887, 0.00044159, 0.00043948, 0.00042379])"
      ]
     },
     "execution_count": 20,
     "metadata": {
      "tags": []
     },
     "output_type": "execute_result"
    }
   ],
   "source": [
    "pca.explained_variance_ratio_"
   ]
  },
  {
   "cell_type": "code",
   "execution_count": 9,
   "metadata": {
    "colab": {
     "base_uri": "https://localhost:8080/"
    },
    "executionInfo": {
     "elapsed": 926,
     "status": "ok",
     "timestamp": 1607919219266,
     "user": {
      "displayName": "Rashmi r",
      "photoUrl": "",
      "userId": "10879259065867465007"
     },
     "user_tz": -330
    },
    "id": "Z7v4hI84Dz21",
    "outputId": "77734ff8-31f7-4ab2-c93b-e76f84d48c90"
   },
   "outputs": [
    {
     "data": {
      "text/plain": [
       "154"
      ]
     },
     "execution_count": 9,
     "metadata": {
      "tags": []
     },
     "output_type": "execute_result"
    }
   ],
   "source": [
    "d"
   ]
  },
  {
   "cell_type": "code",
   "execution_count": null,
   "metadata": {
    "colab": {
     "base_uri": "https://localhost:8080/",
     "height": 283
    },
    "executionInfo": {
     "elapsed": 1271,
     "status": "ok",
     "timestamp": 1607755427765,
     "user": {
      "displayName": "Rashmi r",
      "photoUrl": "",
      "userId": "10879259065867465007"
     },
     "user_tz": -330
    },
    "id": "x8aVXROAD5u-",
    "outputId": "1dbc5a00-3ec7-4946-d84f-a446eac2d4f3"
   },
   "outputs": [
    {
     "data": {
      "image/png": "[encoded data removed]",
      "text/plain": [
       "<Figure size 432x288 with 1 Axes>"
      ]
     },
     "metadata": {
      "needs_background": "light",
      "tags": []
     },
     "output_type": "display_data"
    }
   ],
   "source": [
    "plt.figure(figsize=(6,4))\n",
    "plt.plot(cumsum, linewidth=3)\n",
    "plt.axis([0, 400, 0, 1])\n",
    "plt.xlabel(\"Dimensions\")\n",
    "plt.ylabel(\"Explained Variance\")\n",
    "plt.plot([d, d], [0, 0.95], \"k:\")\n",
    "plt.plot([0, d], [0.95, 0.95], \"k:\")\n",
    "plt.plot(d, 0.95, \"ko\")\n",
    "plt.annotate(\"Elbow\", xy=(65, 0.85), xytext=(70, 0.7),\n",
    "             arrowprops=dict(arrowstyle=\"->\"), fontsize=16)\n",
    "plt.grid(True)\n",
    "#save_fig(\"explained_variance_plot\")\n",
    "plt.show()"
   ]
  },
  {
   "cell_type": "code",
   "execution_count": null,
   "metadata": {
    "id": "k2X4KDQ_EP7a"
   },
   "outputs": [],
   "source": [
    "pca = PCA(n_components=0.95)  #PCA will return those components whose cumulative sum is 0.95\n",
    "X_reduced = pca.fit_transform(X_train)"
   ]
  },
  {
   "cell_type": "code",
   "execution_count": null,
   "metadata": {
    "colab": {
     "base_uri": "https://localhost:8080/"
    },
    "executionInfo": {
     "elapsed": 1624,
     "status": "ok",
     "timestamp": 1607757206874,
     "user": {
      "displayName": "Rashmi r",
      "photoUrl": "",
      "userId": "10879259065867465007"
     },
     "user_tz": -330
    },
    "id": "nU2UYjAWy_LW",
    "outputId": "e4f371b7-5be8-4a44-dbd3-9a46d34c8404"
   },
   "outputs": [
    {
     "data": {
      "text/plain": [
       "array([[-2.99969626e+02,  9.18445143e+02, -2.70476050e+02, ...,\n",
       "        -1.85817586e+00, -2.19807158e+01,  1.71831169e+01],\n",
       "       [-3.96491697e+01,  5.42152766e+02, -3.11893663e+02, ...,\n",
       "         3.12218165e+01, -8.42819284e+00,  9.34785171e-01],\n",
       "       [ 1.95360371e+02,  1.46095713e+02,  6.25646676e+02, ...,\n",
       "         1.56825768e+01, -1.44759770e+01,  1.23357918e+01],\n",
       "       ...,\n",
       "       [-9.10908481e+02, -5.24797576e+02,  1.51599286e+02, ...,\n",
       "         4.57056839e+00,  2.09636704e+01, -2.58699144e+00],\n",
       "       [ 3.88613031e+02, -1.15372115e+01,  6.00810878e+02, ...,\n",
       "         2.91934793e+01, -1.85691890e+01, -3.35362816e+01],\n",
       "       [-9.51546503e+02, -3.58874478e+02,  5.38830469e+01, ...,\n",
       "        -1.94517725e+01,  2.88261659e+01,  3.49582914e+01]])"
      ]
     },
     "execution_count": 19,
     "metadata": {
      "tags": []
     },
     "output_type": "execute_result"
    }
   ],
   "source": [
    "X_reduced"
   ]
  },
  {
   "cell_type": "code",
   "execution_count": null,
   "metadata": {
    "colab": {
     "base_uri": "https://localhost:8080/"
    },
    "executionInfo": {
     "elapsed": 725,
     "status": "ok",
     "timestamp": 1607755446587,
     "user": {
      "displayName": "Rashmi r",
      "photoUrl": "",
      "userId": "10879259065867465007"
     },
     "user_tz": -330
    },
    "id": "IoqLsjMVEWzz",
    "outputId": "fab10bfb-fbb9-4f84-abd1-c138f2d4b372"
   },
   "outputs": [
    {
     "data": {
      "text/plain": [
       "154"
      ]
     },
     "execution_count": 12,
     "metadata": {
      "tags": []
     },
     "output_type": "execute_result"
    }
   ],
   "source": [
    "pca.n_components_"
   ]
  },
  {
   "cell_type": "code",
   "execution_count": 10,
   "metadata": {
    "colab": {
     "base_uri": "https://localhost:8080/"
    },
    "executionInfo": {
     "elapsed": 928,
     "status": "ok",
     "timestamp": 1607919236627,
     "user": {
      "displayName": "Rashmi r",
      "photoUrl": "",
      "userId": "10879259065867465007"
     },
     "user_tz": -330
    },
    "id": "AEHEJo-qEZUP",
    "outputId": "4b6cd0b5-2f5c-4cbf-d3b9-cdfe30157004"
   },
   "outputs": [
    {
     "data": {
      "text/plain": [
       "1.0"
      ]
     },
     "execution_count": 10,
     "metadata": {
      "tags": []
     },
     "output_type": "execute_result"
    }
   ],
   "source": [
    "np.sum(pca.explained_variance_ratio_)"
   ]
  }
 ],
 "metadata": {
  "colab": {
   "authorship_tag": "ABX9TyPcuFjV8PVOCWhyTh+2aPvk",
   "collapsed_sections": [],
   "name": "PCA_MNIST.ipynb",
   "provenance": []
  },
  "kernelspec": {
   "display_name": "Python 3",
   "language": "python",
   "name": "python3"
  },
  "language_info": {
   "codemirror_mode": {
    "name": "ipython",
    "version": 3
   },
   "file_extension": ".py",
   "mimetype": "text/x-python",
   "name": "python",
   "nbconvert_exporter": "python",
   "pygments_lexer": "ipython3",
   "version": "3.8.5"
  }
 },
 "nbformat": 4,
 "nbformat_minor": 1
}
